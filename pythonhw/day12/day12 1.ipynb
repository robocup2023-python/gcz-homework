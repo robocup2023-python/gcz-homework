{
 "cells": [
  {
   "cell_type": "code",
   "execution_count": 2,
   "id": "5d5d6d6c",
   "metadata": {},
   "outputs": [],
   "source": [
    "import pandas as pd"
   ]
  },
  {
   "cell_type": "code",
   "execution_count": null,
   "id": "700fda3f",
   "metadata": {},
   "outputs": [],
   "source": [
    "file = pd.read_csv()"
   ]
  },
  {
   "cell_type": "code",
   "execution_count": null,
   "id": "ca520749",
   "metadata": {},
   "outputs": [],
   "source": [
    "file.drop([\"somecol\"],axis=1)"
   ]
  },
  {
   "cell_type": "code",
   "execution_count": null,
   "id": "d65cc944",
   "metadata": {},
   "outputs": [],
   "source": [
    "file['C列'] = file['A列']+file['B列']"
   ]
  }
 ],
 "metadata": {
  "kernelspec": {
   "display_name": "Python 3 (ipykernel)",
   "language": "python",
   "name": "python3"
  },
  "language_info": {
   "codemirror_mode": {
    "name": "ipython",
    "version": 3
   },
   "file_extension": ".py",
   "mimetype": "text/x-python",
   "name": "python",
   "nbconvert_exporter": "python",
   "pygments_lexer": "ipython3",
   "version": "3.9.13"
  }
 },
 "nbformat": 4,
 "nbformat_minor": 5
}
